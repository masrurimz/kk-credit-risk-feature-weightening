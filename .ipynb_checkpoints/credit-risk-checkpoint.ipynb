{
 "cells": [
  {
   "cell_type": "code",
   "execution_count": null,
   "metadata": {},
   "outputs": [],
   "source": [
    "import xgboost as xgb\n",
    "from xgboost import XGBClassifier\n",
    "from sklearn.model_selection import train_test_split\n",
    "from sklearn.metrics import accuracy_score\n",
    "import pandas as pd\n",
    "import matplotlib.pyplot as plt\n",
    "from sklearn.preprocessing import OrdinalEncoder"
   ]
  },
  {
   "cell_type": "code",
   "execution_count": null,
   "metadata": {},
   "outputs": [],
   "source": [
    "# Load the dataset\n",
    "df = pd.read_csv('dataset/credit_customers.csv')\n",
    "df.head().T\n",
    "# df.info()\n",
    "# print(df['class'].value_counts())\n",
    "# df.describe().T"
   ]
  },
  {
   "cell_type": "code",
   "execution_count": null,
   "metadata": {},
   "outputs": [],
   "source": [
    "# Ordinal encoding\n",
    "ord_enc = OrdinalEncoder()\n",
    "\n",
    "df['checking_status'] = ord_enc.fit_transform(df[['checking_status']])\n",
    "df['credit_history'] = ord_enc.fit_transform(df[['credit_history']])\n",
    "df['purpose'] = ord_enc.fit_transform(df[['purpose']])\n",
    "df['savings_status'] = ord_enc.fit_transform(df[['savings_status']])\n",
    "df['employment'] = ord_enc.fit_transform(df[['employment']])\n",
    "df['personal_status'] = ord_enc.fit_transform(df[['personal_status']])\n",
    "df['other_parties'] = ord_enc.fit_transform(df[['other_parties']])\n",
    "df['property_magnitude'] = ord_enc.fit_transform(df[['property_magnitude']])\n",
    "df['other_payment_plans'] = ord_enc.fit_transform(df[['other_payment_plans']])\n",
    "df['housing'] = ord_enc.fit_transform(df[['housing']])\n",
    "df['job'] = ord_enc.fit_transform(df[['job']])\n",
    "df['own_telephone'] = ord_enc.fit_transform(df[['own_telephone']])\n",
    "df['foreign_worker'] = ord_enc.fit_transform(df[['foreign_worker']])\n",
    "df['class'] = ord_enc.fit_transform(df[['class']])\n",
    "\n",
    "df.head().T"
   ]
  },
  {
   "cell_type": "code",
   "execution_count": null,
   "metadata": {},
   "outputs": [],
   "source": [
    "X_train, X_test, y_train, y_test = train_test_split(df.drop('class', axis=1), df['class'], test_size=0.2, random_state=42)"
   ]
  },
  {
   "cell_type": "code",
   "execution_count": null,
   "metadata": {},
   "outputs": [],
   "source": [
    "# Classification model\n",
    "model = XGBClassifier(\n",
    "    learning_rate=0.15,\n",
    "    n_estimators=200,\n",
    "    max_depth=4,\n",
    ")\n",
    "\n",
    "model.fit(\n",
    "    X_train,\n",
    "    y_train,\n",
    "    eval_set=[(X_test, y_test)],\n",
    "    early_stopping_rounds=50,\n",
    "    eval_metric='error',\n",
    ")\n",
    "\n",
    "# Score\n",
    "y_pred = model.predict(X_test)\n",
    "predictions = [round(value) for value in y_pred]\n",
    "\n",
    "print(\"Accuracy: %.2f%%\" % (accuracy_score(y_test, predictions) * 100.0))"
   ]
  },
  {
   "cell_type": "code",
   "execution_count": 15,
   "metadata": {},
   "outputs": [
    {
     "name": "stdout",
     "output_type": "stream",
     "text": [
      "Accuracy: 75.00%\n"
     ]
    }
   ],
   "source": [
    "# Classificaton using random forest\n",
    "from sklearn.ensemble import RandomForestClassifier\n",
    "\n",
    "model = RandomForestClassifier(n_estimators=100, max_depth=4)\n",
    "model.fit(X_train, y_train)\n",
    "\n",
    "y_pred = model.predict(X_test)\n",
    "predictions = [round(value) for value in y_pred]\n",
    "\n",
    "print(\"Accuracy: %.2f%%\" % (accuracy_score(y_test, predictions) * 100.0))"
   ]
  },
  {
   "cell_type": "code",
   "execution_count": 9,
   "metadata": {},
   "outputs": [
    {
     "ename": "SystemError",
     "evalue": "initialization of _internal failed without raising an exception",
     "output_type": "error",
     "traceback": [
      "\u001b[0;31m---------------------------------------------------------------------------\u001b[0m",
      "\u001b[0;31mSystemError\u001b[0m                               Traceback (most recent call last)",
      "Cell \u001b[0;32mIn[9], line 1\u001b[0m\n\u001b[0;32m----> 1\u001b[0m \u001b[39mfrom\u001b[39;00m \u001b[39mevolutionary_forest\u001b[39;00m\u001b[39m.\u001b[39;00m\u001b[39mforest\u001b[39;00m \u001b[39mimport\u001b[39;00m EvolutionaryForestRegressor\n\u001b[1;32m      2\u001b[0m \u001b[39mfrom\u001b[39;00m \u001b[39mevolutionary_forest\u001b[39;00m\u001b[39m.\u001b[39;00m\u001b[39mutils\u001b[39;00m \u001b[39mimport\u001b[39;00m get_feature_importance, plot_feature_importance, feature_append\n\u001b[1;32m      4\u001b[0m \u001b[39m# Train Evolutionary Forest\u001b[39;00m\n",
      "File \u001b[0;32m/opt/homebrew/anaconda3/lib/python3.10/site-packages/evolutionary_forest/forest.py:43\u001b[0m\n\u001b[1;32m     40\u001b[0m \u001b[39mfrom\u001b[39;00m \u001b[39msympy\u001b[39;00m \u001b[39mimport\u001b[39;00m parse_expr\n\u001b[1;32m     41\u001b[0m \u001b[39mfrom\u001b[39;00m \u001b[39mtpot\u001b[39;00m \u001b[39mimport\u001b[39;00m TPOTClassifier, TPOTRegressor\n\u001b[0;32m---> 43\u001b[0m \u001b[39mfrom\u001b[39;00m \u001b[39mevolutionary_forest\u001b[39;00m\u001b[39m.\u001b[39;00m\u001b[39mcomponent\u001b[39;00m\u001b[39m.\u001b[39;00m\u001b[39marchive\u001b[39;00m \u001b[39mimport\u001b[39;00m \u001b[39m*\u001b[39m\n\u001b[1;32m     44\u001b[0m \u001b[39mfrom\u001b[39;00m \u001b[39mevolutionary_forest\u001b[39;00m\u001b[39m.\u001b[39;00m\u001b[39mcomponent\u001b[39;00m\u001b[39m.\u001b[39;00m\u001b[39marchive\u001b[39;00m \u001b[39mimport\u001b[39;00m DREPHallOfFame, NoveltyHallOfFame, OOBHallOfFame, BootstrapHallOfFame\n\u001b[1;32m     45\u001b[0m \u001b[39mfrom\u001b[39;00m \u001b[39mevolutionary_forest\u001b[39;00m\u001b[39m.\u001b[39;00m\u001b[39mcomponent\u001b[39;00m\u001b[39m.\u001b[39;00m\u001b[39mconfiguration\u001b[39;00m \u001b[39mimport\u001b[39;00m CrossoverMode, ArchiveConfiguration, ImbalancedConfiguration, \\\n\u001b[1;32m     46\u001b[0m     EvaluationConfiguration, check_semantic_based_bc, BloatControlConfiguration, SelectionMode\n",
      "File \u001b[0;32m/opt/homebrew/anaconda3/lib/python3.10/site-packages/evolutionary_forest/component/archive.py:17\u001b[0m\n\u001b[1;32m     14\u001b[0m \u001b[39mfrom\u001b[39;00m \u001b[39msklearn\u001b[39;00m\u001b[39m.\u001b[39;00m\u001b[39mtree\u001b[39;00m \u001b[39mimport\u001b[39;00m DecisionTreeRegressor\n\u001b[1;32m     16\u001b[0m \u001b[39mfrom\u001b[39;00m \u001b[39mevolutionary_forest\u001b[39;00m\u001b[39m.\u001b[39;00m\u001b[39mcomponent\u001b[39;00m\u001b[39m.\u001b[39;00m\u001b[39mconfiguration\u001b[39;00m \u001b[39mimport\u001b[39;00m ArchiveConfiguration\n\u001b[0;32m---> 17\u001b[0m \u001b[39mfrom\u001b[39;00m \u001b[39mevolutionary_forest\u001b[39;00m\u001b[39m.\u001b[39;00m\u001b[39mcomponent\u001b[39;00m\u001b[39m.\u001b[39;00m\u001b[39mevaluation\u001b[39;00m \u001b[39mimport\u001b[39;00m quick_result_calculation\n\u001b[1;32m     18\u001b[0m \u001b[39mfrom\u001b[39;00m \u001b[39mevolutionary_forest\u001b[39;00m\u001b[39m.\u001b[39;00m\u001b[39mcomponent\u001b[39;00m\u001b[39m.\u001b[39;00m\u001b[39mprimitives\u001b[39;00m \u001b[39mimport\u001b[39;00m individual_to_tuple\n\u001b[1;32m     19\u001b[0m \u001b[39mfrom\u001b[39;00m \u001b[39mevolutionary_forest\u001b[39;00m\u001b[39m.\u001b[39;00m\u001b[39mcomponent\u001b[39;00m\u001b[39m.\u001b[39;00m\u001b[39msubset_selection\u001b[39;00m \u001b[39mimport\u001b[39;00m EnsembleSelectionADE\n",
      "File \u001b[0;32m/opt/homebrew/anaconda3/lib/python3.10/site-packages/evolutionary_forest/component/evaluation.py:8\u001b[0m\n\u001b[1;32m      6\u001b[0m \u001b[39mimport\u001b[39;00m \u001b[39mdill\u001b[39;00m\n\u001b[1;32m      7\u001b[0m \u001b[39mimport\u001b[39;00m \u001b[39mnumpy\u001b[39;00m \u001b[39mas\u001b[39;00m \u001b[39mnp\u001b[39;00m\n\u001b[0;32m----> 8\u001b[0m \u001b[39mimport\u001b[39;00m \u001b[39mshap\u001b[39;00m\n\u001b[1;32m      9\u001b[0m \u001b[39mfrom\u001b[39;00m \u001b[39mdeap\u001b[39;00m \u001b[39mimport\u001b[39;00m base\n\u001b[1;32m     10\u001b[0m \u001b[39mfrom\u001b[39;00m \u001b[39mdeap\u001b[39;00m \u001b[39mimport\u001b[39;00m creator\n",
      "File \u001b[0;32m/opt/homebrew/anaconda3/lib/python3.10/site-packages/shap/__init__.py:12\u001b[0m\n\u001b[1;32m      9\u001b[0m \u001b[39mif\u001b[39;00m (sys\u001b[39m.\u001b[39mversion_info \u001b[39m<\u001b[39m (\u001b[39m3\u001b[39m, \u001b[39m0\u001b[39m)):\n\u001b[1;32m     10\u001b[0m     warnings\u001b[39m.\u001b[39mwarn(\u001b[39m\"\u001b[39m\u001b[39mAs of version 0.29.0 shap only supports Python 3 (not 2)!\u001b[39m\u001b[39m\"\u001b[39m)\n\u001b[0;32m---> 12\u001b[0m \u001b[39mfrom\u001b[39;00m \u001b[39m.\u001b[39;00m\u001b[39m_explanation\u001b[39;00m \u001b[39mimport\u001b[39;00m Explanation, Cohorts\n\u001b[1;32m     14\u001b[0m \u001b[39m# explainers\u001b[39;00m\n\u001b[1;32m     15\u001b[0m \u001b[39mfrom\u001b[39;00m \u001b[39m.\u001b[39;00m\u001b[39mexplainers\u001b[39;00m\u001b[39m.\u001b[39;00m\u001b[39m_explainer\u001b[39;00m \u001b[39mimport\u001b[39;00m Explainer\n",
      "File \u001b[0;32m/opt/homebrew/anaconda3/lib/python3.10/site-packages/shap/_explanation.py:12\u001b[0m\n\u001b[1;32m     10\u001b[0m \u001b[39mfrom\u001b[39;00m \u001b[39mslicer\u001b[39;00m \u001b[39mimport\u001b[39;00m Slicer, Alias, Obj\n\u001b[1;32m     11\u001b[0m \u001b[39m# from ._order import Order\u001b[39;00m\n\u001b[0;32m---> 12\u001b[0m \u001b[39mfrom\u001b[39;00m \u001b[39m.\u001b[39;00m\u001b[39mutils\u001b[39;00m\u001b[39m.\u001b[39;00m\u001b[39m_general\u001b[39;00m \u001b[39mimport\u001b[39;00m OpChain\n\u001b[1;32m     13\u001b[0m \u001b[39mfrom\u001b[39;00m \u001b[39m.\u001b[39;00m\u001b[39mutils\u001b[39;00m\u001b[39m.\u001b[39;00m\u001b[39m_exceptions\u001b[39;00m \u001b[39mimport\u001b[39;00m DimensionError\n\u001b[1;32m     15\u001b[0m \u001b[39m# slicer confuses pylint...\u001b[39;00m\n\u001b[1;32m     16\u001b[0m \u001b[39m# pylint: disable=no-member\u001b[39;00m\n",
      "File \u001b[0;32m/opt/homebrew/anaconda3/lib/python3.10/site-packages/shap/utils/__init__.py:1\u001b[0m\n\u001b[0;32m----> 1\u001b[0m \u001b[39mfrom\u001b[39;00m \u001b[39m.\u001b[39;00m\u001b[39m_clustering\u001b[39;00m \u001b[39mimport\u001b[39;00m hclust_ordering, partition_tree, partition_tree_shuffle, delta_minimization_order, hclust\n\u001b[1;32m      2\u001b[0m \u001b[39mfrom\u001b[39;00m \u001b[39m.\u001b[39;00m\u001b[39m_general\u001b[39;00m \u001b[39mimport\u001b[39;00m approximate_interactions, potential_interactions, sample, safe_isinstance, assert_import, record_import_error\n\u001b[1;32m      3\u001b[0m \u001b[39mfrom\u001b[39;00m \u001b[39m.\u001b[39;00m\u001b[39m_general\u001b[39;00m \u001b[39mimport\u001b[39;00m shapley_coefficients, convert_name, format_value, ordinal_str, OpChain, suppress_stderr\n",
      "File \u001b[0;32m/opt/homebrew/anaconda3/lib/python3.10/site-packages/shap/utils/_clustering.py:4\u001b[0m\n\u001b[1;32m      2\u001b[0m \u001b[39mimport\u001b[39;00m \u001b[39mscipy\u001b[39;00m \u001b[39mas\u001b[39;00m \u001b[39msp\u001b[39;00m\n\u001b[1;32m      3\u001b[0m \u001b[39mfrom\u001b[39;00m \u001b[39mscipy\u001b[39;00m\u001b[39m.\u001b[39;00m\u001b[39mspatial\u001b[39;00m\u001b[39m.\u001b[39;00m\u001b[39mdistance\u001b[39;00m \u001b[39mimport\u001b[39;00m pdist\n\u001b[0;32m----> 4\u001b[0m \u001b[39mfrom\u001b[39;00m \u001b[39mnumba\u001b[39;00m \u001b[39mimport\u001b[39;00m jit\n\u001b[1;32m      5\u001b[0m \u001b[39mimport\u001b[39;00m \u001b[39msklearn\u001b[39;00m\n\u001b[1;32m      6\u001b[0m \u001b[39mimport\u001b[39;00m \u001b[39mwarnings\u001b[39;00m\n",
      "File \u001b[0;32m/opt/homebrew/anaconda3/lib/python3.10/site-packages/numba/__init__.py:42\u001b[0m\n\u001b[1;32m     38\u001b[0m \u001b[39mfrom\u001b[39;00m \u001b[39mnumba\u001b[39;00m\u001b[39m.\u001b[39;00m\u001b[39mcore\u001b[39;00m\u001b[39m.\u001b[39;00m\u001b[39mdecorators\u001b[39;00m \u001b[39mimport\u001b[39;00m (cfunc, generated_jit, jit, njit, stencil,\n\u001b[1;32m     39\u001b[0m                                    jit_module)\n\u001b[1;32m     41\u001b[0m \u001b[39m# Re-export vectorize decorators and the thread layer querying function\u001b[39;00m\n\u001b[0;32m---> 42\u001b[0m \u001b[39mfrom\u001b[39;00m \u001b[39mnumba\u001b[39;00m\u001b[39m.\u001b[39;00m\u001b[39mnp\u001b[39;00m\u001b[39m.\u001b[39;00m\u001b[39mufunc\u001b[39;00m \u001b[39mimport\u001b[39;00m (vectorize, guvectorize, threading_layer,\n\u001b[1;32m     43\u001b[0m                             get_num_threads, set_num_threads,\n\u001b[1;32m     44\u001b[0m                             set_parallel_chunksize, get_parallel_chunksize,\n\u001b[1;32m     45\u001b[0m                             get_thread_id)\n\u001b[1;32m     47\u001b[0m \u001b[39m# Re-export Numpy helpers\u001b[39;00m\n\u001b[1;32m     48\u001b[0m \u001b[39mfrom\u001b[39;00m \u001b[39mnumba\u001b[39;00m\u001b[39m.\u001b[39;00m\u001b[39mnp\u001b[39;00m\u001b[39m.\u001b[39;00m\u001b[39mnumpy_support\u001b[39;00m \u001b[39mimport\u001b[39;00m carray, farray, from_dtype\n",
      "File \u001b[0;32m/opt/homebrew/anaconda3/lib/python3.10/site-packages/numba/np/ufunc/__init__.py:3\u001b[0m\n\u001b[1;32m      1\u001b[0m \u001b[39m# -*- coding: utf-8 -*-\u001b[39;00m\n\u001b[0;32m----> 3\u001b[0m \u001b[39mfrom\u001b[39;00m \u001b[39mnumba\u001b[39;00m\u001b[39m.\u001b[39;00m\u001b[39mnp\u001b[39;00m\u001b[39m.\u001b[39;00m\u001b[39mufunc\u001b[39;00m\u001b[39m.\u001b[39;00m\u001b[39mdecorators\u001b[39;00m \u001b[39mimport\u001b[39;00m Vectorize, GUVectorize, vectorize, guvectorize\n\u001b[1;32m      4\u001b[0m \u001b[39mfrom\u001b[39;00m \u001b[39mnumba\u001b[39;00m\u001b[39m.\u001b[39;00m\u001b[39mnp\u001b[39;00m\u001b[39m.\u001b[39;00m\u001b[39mufunc\u001b[39;00m\u001b[39m.\u001b[39;00m\u001b[39m_internal\u001b[39;00m \u001b[39mimport\u001b[39;00m PyUFunc_None, PyUFunc_Zero, PyUFunc_One\n\u001b[1;32m      5\u001b[0m \u001b[39mfrom\u001b[39;00m \u001b[39mnumba\u001b[39;00m\u001b[39m.\u001b[39;00m\u001b[39mnp\u001b[39;00m\u001b[39m.\u001b[39;00m\u001b[39mufunc\u001b[39;00m \u001b[39mimport\u001b[39;00m _internal, array_exprs\n",
      "File \u001b[0;32m/opt/homebrew/anaconda3/lib/python3.10/site-packages/numba/np/ufunc/decorators.py:3\u001b[0m\n\u001b[1;32m      1\u001b[0m \u001b[39mimport\u001b[39;00m \u001b[39minspect\u001b[39;00m\n\u001b[0;32m----> 3\u001b[0m \u001b[39mfrom\u001b[39;00m \u001b[39mnumba\u001b[39;00m\u001b[39m.\u001b[39;00m\u001b[39mnp\u001b[39;00m\u001b[39m.\u001b[39;00m\u001b[39mufunc\u001b[39;00m \u001b[39mimport\u001b[39;00m _internal\n\u001b[1;32m      4\u001b[0m \u001b[39mfrom\u001b[39;00m \u001b[39mnumba\u001b[39;00m\u001b[39m.\u001b[39;00m\u001b[39mnp\u001b[39;00m\u001b[39m.\u001b[39;00m\u001b[39mufunc\u001b[39;00m\u001b[39m.\u001b[39;00m\u001b[39mparallel\u001b[39;00m \u001b[39mimport\u001b[39;00m ParallelUFuncBuilder, ParallelGUFuncBuilder\n\u001b[1;32m      6\u001b[0m \u001b[39mfrom\u001b[39;00m \u001b[39mnumba\u001b[39;00m\u001b[39m.\u001b[39;00m\u001b[39mcore\u001b[39;00m\u001b[39m.\u001b[39;00m\u001b[39mregistry\u001b[39;00m \u001b[39mimport\u001b[39;00m DelayedRegistry\n",
      "\u001b[0;31mSystemError\u001b[0m: initialization of _internal failed without raising an exception"
     ]
    }
   ],
   "source": [
    "from evolutionary_forest.forest import EvolutionaryForestRegressor\n",
    "from evolutionary_forest.utils import get_feature_importance, plot_feature_importance, feature_append\n",
    "\n",
    "# Train Evolutionary Forest\n",
    "r = EvolutionaryForestRegressor(max_height=5, normalize=True, select='AutomaticLexicase',\n",
    "                                gene_num=10, boost_size=100, n_gen=20, n_pop=200, cross_pb=1,\n",
    "                                base_learner='Random-DT', verbose=True, n_process=1)\n",
    "r.fit(X_train, y_train)\n",
    "\n",
    "# Predict\n",
    "y_pred = r.predict(X_test)\n",
    "predictions = [round(value) for value in y_pred]\n",
    "\n",
    "print(\"Accuracy: %.2f%%\" % (accuracy_score(y_test, predictions) * 100.0))"
   ]
  }
 ],
 "metadata": {
  "kernelspec": {
   "display_name": "Python 3 (ipykernel)",
   "language": "python",
   "name": "python3"
  },
  "language_info": {
   "codemirror_mode": {
    "name": "ipython",
    "version": 3
   },
   "file_extension": ".py",
   "mimetype": "text/x-python",
   "name": "python",
   "nbconvert_exporter": "python",
   "pygments_lexer": "ipython3",
   "version": "3.10.11"
  }
 },
 "nbformat": 4,
 "nbformat_minor": 4
}
